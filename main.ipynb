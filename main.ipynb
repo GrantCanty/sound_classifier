{
 "cells": [
  {
   "cell_type": "markdown",
   "metadata": {},
   "source": [
    "make a new file that loads the h5 & csv with labels. drop rows in the csv that don't have a label or have DELETE as their label. drop rows from h5 that aren't in csv. output smaller h5 that's useable"
   ]
  },
  {
   "cell_type": "code",
   "execution_count": 1,
   "metadata": {},
   "outputs": [],
   "source": [
    "import pandas as pd\n",
    "import os\n",
    "from pathlib import Path\n",
    "import librosa\n",
    "from concurrent.futures import ThreadPoolExecutor\n",
    "import numpy as np\n",
    "import h5py\n",
    "from tqdm import tqdm"
   ]
  },
  {
   "cell_type": "code",
   "execution_count": 2,
   "metadata": {},
   "outputs": [
    {
     "name": "stdout",
     "output_type": "stream",
     "text": [
      "Total of 27801282123 bytes.\n"
     ]
    }
   ],
   "source": [
    "# get file paths\n",
    "FOLDER_PATH = \"/Users/cheoso/Documents/samples/Packs/\"\n",
    "file_paths = []\n",
    "total = 0\n",
    "\n",
    "for root, dirs, files in os.walk(FOLDER_PATH):\n",
    "    for file in files:\n",
    "        path = Path(root) / file\n",
    "        path_lower = str(path).lower()\n",
    "        if path_lower.endswith(('.wav', '.aif', '.aiff')):\n",
    "          file_paths.append(str(path))\n",
    "\n",
    "          total += path.stat().st_size\n",
    "\n",
    "print(f\"Total of {total} bytes.\")"
   ]
  },
  {
   "cell_type": "code",
   "execution_count": 3,
   "metadata": {},
   "outputs": [
    {
     "name": "stderr",
     "output_type": "stream",
     "text": [
      "/var/folders/h0/pzm07l6x5n7181rc09xppl940000gn/T/ipykernel_17450/3117495476.py:7: UserWarning: PySoundFile failed. Trying audioread instead.\n",
      "  audio, sr = librosa.load(file, sr=None)  # Load without resampling\n",
      "/Users/cheoso/ai_projects/load_audio/venv/lib/python3.13/site-packages/librosa/core/audio.py:184: FutureWarning: librosa.core.audio.__audioread_load\n",
      "\tDeprecated as of librosa version 0.10.0.\n",
      "\tIt will be removed in librosa version 1.0.\n",
      "  y, sr_native = __audioread_load(path, offset, duration, dtype)\n"
     ]
    }
   ],
   "source": [
    "failed_files = []\n",
    "\n",
    "\n",
    "def extract_audio_and_metadata(index, file):\n",
    "    \"\"\"Load an audio file and extract its waveform, sample rate, and label.\"\"\"\n",
    "    try:\n",
    "        audio, sr = librosa.load(file, sr=None)  # Load without resampling\n",
    "        file = str(file)\n",
    "        file_name = file.split('/')[-1]\n",
    "        return [index, sr, audio], [index, file, file_name]\n",
    "    except Exception as e:\n",
    "        failed_files.append(file)\n",
    "        return None\n",
    "\n",
    "# Use parallel processing to load audio files\n",
    "def get_audio_and_metadata(files):\n",
    "    audio_results = []\n",
    "    meta_results = []\n",
    "\n",
    "    with ThreadPoolExecutor() as executor:\n",
    "        results = executor.map(lambda p: extract_audio_and_metadata(*p), enumerate(files))\n",
    "        \n",
    "        for res in results:\n",
    "            if res is not None:\n",
    "                audio_data, meta_data = res\n",
    "                audio_results.append(audio_data)\n",
    "                meta_results.append(meta_data)\n",
    "    \n",
    "    return audio_results, meta_results\n",
    "\n",
    "\n",
    "audioResults, metadataResults = get_audio_and_metadata(file_paths)"
   ]
  },
  {
   "cell_type": "code",
   "execution_count": 4,
   "metadata": {},
   "outputs": [
    {
     "name": "stdout",
     "output_type": "stream",
     "text": [
      "638\n"
     ]
    }
   ],
   "source": [
    "failed_len = len(failed_files)\n",
    "print(failed_len)"
   ]
  },
  {
   "cell_type": "code",
   "execution_count": 5,
   "metadata": {},
   "outputs": [
    {
     "name": "stdout",
     "output_type": "stream",
     "text": [
      "17698\n",
      "17698\n"
     ]
    }
   ],
   "source": [
    "print(len(audioResults))\n",
    "print(len(metadataResults))"
   ]
  },
  {
   "cell_type": "code",
   "execution_count": 6,
   "metadata": {},
   "outputs": [],
   "source": [
    "# Convert results to DataFrame\n",
    "df_ar = pd.DataFrame(audioResults, columns=[\"id\", \"sample_rate\", \"waveform\"])\n",
    "df_md = pd.DataFrame(metadataResults, columns=[\"id\", \"file_path\", \"file_name\"])"
   ]
  },
  {
   "cell_type": "code",
   "execution_count": 7,
   "metadata": {},
   "outputs": [
    {
     "data": {
      "text/plain": [
       "dtype('int64')"
      ]
     },
     "execution_count": 7,
     "metadata": {},
     "output_type": "execute_result"
    }
   ],
   "source": [
    "df_ar['id'].dtype"
   ]
  },
  {
   "cell_type": "code",
   "execution_count": 8,
   "metadata": {},
   "outputs": [
    {
     "name": "stderr",
     "output_type": "stream",
     "text": [
      "100%|██████████| 17698/17698 [13:42<00:00, 21.51it/s] \n"
     ]
    }
   ],
   "source": [
    "dt = h5py.string_dtype(encoding='utf-8')\n",
    "\n",
    "\n",
    "with h5py.File(\"audio_data.h5\", \"w\") as f:\n",
    "    meta_data = f.create_group(\"meta_data\")\n",
    "    meta_data.create_dataset('index', data=np.array(df_md['id'], dtype='int'))\n",
    "    meta_data.create_dataset('path', data=np.array(df_md['file_path'], dtype=dt))\n",
    "    meta_data.create_dataset('name', data=np.array(df_md['file_name'], dtype=dt))\n",
    "\n",
    "    audio_data = f.create_group('audio_data')\n",
    "\n",
    "    def save_sample(row):\n",
    "        sample_group = audio_data.create_group(str(row['id']))\n",
    "        sample_group.create_dataset('waveform', data=row['waveform'], compression='gzip')\n",
    "        sample_group.create_dataset('sample_rate', data=row['sample_rate'])\n",
    "\n",
    "    # Use ThreadPoolExecutor for parallelism\n",
    "    with ThreadPoolExecutor(max_workers=8) as executor:\n",
    "        list(tqdm(executor.map(save_sample, [row for _, row in df_ar.iterrows()]), total=len(df_ar)))\n",
    "    "
   ]
  },
  {
   "cell_type": "code",
   "execution_count": 9,
   "metadata": {},
   "outputs": [],
   "source": [
    "df_md.to_csv(\"audio_metadata.csv\", header=True, index=False)"
   ]
  },
  {
   "cell_type": "code",
   "execution_count": 10,
   "metadata": {},
   "outputs": [
    {
     "data": {
      "text/html": [
       "<div>\n",
       "<style scoped>\n",
       "    .dataframe tbody tr th:only-of-type {\n",
       "        vertical-align: middle;\n",
       "    }\n",
       "\n",
       "    .dataframe tbody tr th {\n",
       "        vertical-align: top;\n",
       "    }\n",
       "\n",
       "    .dataframe thead th {\n",
       "        text-align: right;\n",
       "    }\n",
       "</style>\n",
       "<table border=\"1\" class=\"dataframe\">\n",
       "  <thead>\n",
       "    <tr style=\"text-align: right;\">\n",
       "      <th></th>\n",
       "      <th>id</th>\n",
       "      <th>file_path</th>\n",
       "      <th>file_name</th>\n",
       "    </tr>\n",
       "  </thead>\n",
       "  <tbody>\n",
       "    <tr>\n",
       "      <th>0</th>\n",
       "      <td>0</td>\n",
       "      <td>/Users/cheoso/Documents/samples/Packs/free 808...</td>\n",
       "      <td>808 - old town road.wav</td>\n",
       "    </tr>\n",
       "    <tr>\n",
       "      <th>1</th>\n",
       "      <td>1</td>\n",
       "      <td>/Users/cheoso/Documents/samples/Packs/free 808...</td>\n",
       "      <td>808 - new slaves.wav</td>\n",
       "    </tr>\n",
       "    <tr>\n",
       "      <th>2</th>\n",
       "      <td>2</td>\n",
       "      <td>/Users/cheoso/Documents/samples/Packs/free 808...</td>\n",
       "      <td>808 - praise the lord 2.wav</td>\n",
       "    </tr>\n",
       "    <tr>\n",
       "      <th>3</th>\n",
       "      <td>3</td>\n",
       "      <td>/Users/cheoso/Documents/samples/Packs/free 808...</td>\n",
       "      <td>808 - 7 rings.wav</td>\n",
       "    </tr>\n",
       "    <tr>\n",
       "      <th>4</th>\n",
       "      <td>4</td>\n",
       "      <td>/Users/cheoso/Documents/samples/Packs/free 808...</td>\n",
       "      <td>808 - bank account.wav</td>\n",
       "    </tr>\n",
       "  </tbody>\n",
       "</table>\n",
       "</div>"
      ],
      "text/plain": [
       "   id                                          file_path  \\\n",
       "0   0  /Users/cheoso/Documents/samples/Packs/free 808...   \n",
       "1   1  /Users/cheoso/Documents/samples/Packs/free 808...   \n",
       "2   2  /Users/cheoso/Documents/samples/Packs/free 808...   \n",
       "3   3  /Users/cheoso/Documents/samples/Packs/free 808...   \n",
       "4   4  /Users/cheoso/Documents/samples/Packs/free 808...   \n",
       "\n",
       "                     file_name  \n",
       "0      808 - old town road.wav  \n",
       "1         808 - new slaves.wav  \n",
       "2  808 - praise the lord 2.wav  \n",
       "3            808 - 7 rings.wav  \n",
       "4       808 - bank account.wav  "
      ]
     },
     "execution_count": 10,
     "metadata": {},
     "output_type": "execute_result"
    }
   ],
   "source": [
    "df_md.head(5)"
   ]
  }
 ],
 "metadata": {
  "kernelspec": {
   "display_name": "venv",
   "language": "python",
   "name": "python3"
  },
  "language_info": {
   "codemirror_mode": {
    "name": "ipython",
    "version": 3
   },
   "file_extension": ".py",
   "mimetype": "text/x-python",
   "name": "python",
   "nbconvert_exporter": "python",
   "pygments_lexer": "ipython3",
   "version": "3.13.1"
  }
 },
 "nbformat": 4,
 "nbformat_minor": 2
}
