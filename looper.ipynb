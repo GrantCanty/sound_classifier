{
 "cells": [
  {
   "cell_type": "code",
   "execution_count": 3,
   "id": "c391cd63",
   "metadata": {},
   "outputs": [
    {
     "name": "stdout",
     "output_type": "stream",
     "text": [
      "2\n"
     ]
    }
   ],
   "source": [
    "print(5//2)"
   ]
  },
  {
   "cell_type": "code",
   "execution_count": null,
   "id": "38dd704c",
   "metadata": {},
   "outputs": [],
   "source": [
    "#from google.colab import drive\n",
    "import pandas as pd\n",
    "import numpy as np\n",
    "import librosa\n",
    "import librosa.display\n",
    "import json\n",
    "import matplotlib.pyplot as plt\n",
    "import tensorflow as tf\n",
    "from tensorflow.image import resize\n",
    "from sklearn.model_selection import train_test_split\n",
    "#from tensorflow.keras.models import Sequential, Model\n",
    "#from tensorflow.keras.layers import Conv2D, MaxPooling2D, Flatten, Dense, Dropout, Input, BatchNormalization, Concatenate, GRU, TimeDistributed\n",
    "import concurrent.futures\n",
    "import time\n",
    "from tensorflow.keras.metrics import AUC\n",
    "import h5py\n",
    "from scipy.signal import butter, filtfilt\n",
    "from scipy.ndimage import gaussian_filter1d\n",
    "import wave\n",
    "import scipy.io.wavfile as wavf\n"
   ]
  },
  {
   "cell_type": "code",
   "execution_count": 3,
   "id": "445307e1",
   "metadata": {},
   "outputs": [],
   "source": [
    "meta_data = pd.read_csv('audio_metadata - filtered.csv', sep=',')\n",
    "meta_data.drop(columns=['group', 'category', 'sub_category'], inplace=True)"
   ]
  },
  {
   "cell_type": "code",
   "execution_count": 4,
   "id": "500a384a",
   "metadata": {},
   "outputs": [],
   "source": [
    "df_id = np.array(meta_data['id'].astype(int)).flatten()\n",
    "\n",
    "wavs = []\n",
    "srs = []\n",
    "\n",
    "def load_sample(f, sample_id):\n",
    "    group = f[\"audio_data\"][str(sample_id)]\n",
    "    waveform = np.array(group[\"waveform\"])\n",
    "    sample_rate = np.array(group[\"sample_rate\"])\n",
    "    return waveform, sample_rate\n",
    "\n",
    "with h5py.File('filtered_audio_data.h5', \"r\") as f:\n",
    "    for i in df_id:\n",
    "        waveform, sr = load_sample(f, i)  # load sample with id=42\n",
    "        wavs.append(waveform)\n",
    "        srs.append(sr)"
   ]
  },
  {
   "cell_type": "code",
   "execution_count": 5,
   "id": "0c30baba",
   "metadata": {},
   "outputs": [],
   "source": [
    "samples = pd.DataFrame({'id': df_id, 'waveform': wavs, 'sample_rate': srs})\n",
    "samples['beginning_time'] = samples.apply(lambda row: len(row['waveform']) / row['sample_rate'], axis=1)"
   ]
  },
  {
   "cell_type": "code",
   "execution_count": 6,
   "id": "d434b8a2",
   "metadata": {},
   "outputs": [],
   "source": [
    "def highpass_filter(y, sr, cutoff=10.0, order=2):\n",
    "    nyquist = 0.5 * sr\n",
    "    normal_cutoff = cutoff / nyquist\n",
    "    b, a = butter(order, normal_cutoff, btype='high', analog=False)\n",
    "    return filtfilt(b, a, y)\n",
    "\n",
    "def lowpass_filter(y, sr, cutoff=150.0, order=2):\n",
    "    nyquist = 0.5 * sr\n",
    "    normal_cutoff = cutoff / nyquist\n",
    "    b, a = butter(order, normal_cutoff, btype='low', analog=False)\n",
    "    return filtfilt(b, a, y)\n",
    "\n",
    "def bandpass_filter(y, sr, lowcut=10.0, highcut=150.0, order=2):\n",
    "    nyquist = 0.5 * sr\n",
    "    low = lowcut / nyquist\n",
    "    high = highcut / nyquist\n",
    "    b, a = butter(order, [low, high], btype='band', analog=False)\n",
    "    return filtfilt(b, a, y)\n",
    "\n",
    "def preprocess_audio(y, sr, top_db=120):\n",
    "    y = librosa.resample(y, orig_sr=sr, target_sr=44100)\n",
    "    y = highpass_filter(y, sr)\n",
    "    y_rev = y[::-1]\n",
    "    y_trimmed, _ = librosa.effects.trim(y_rev, top_db=top_db)\n",
    "    y_reversed_back = y_trimmed[::-1]\n",
    "    return y_reversed_back"
   ]
  },
  {
   "cell_type": "code",
   "execution_count": null,
   "id": "ea39aa0c",
   "metadata": {},
   "outputs": [],
   "source": [
    "samples['waveform'] = samples.apply(lambda row: preprocess_audio(row['waveform'], row['sample_rate']), axis=1)\n",
    "samples['sample_rate'] = 44100"
   ]
  },
  {
   "cell_type": "code",
   "execution_count": 367,
   "id": "a322e600",
   "metadata": {},
   "outputs": [
    {
     "name": "stdout",
     "output_type": "stream",
     "text": [
      "123\n",
      "[1. 0. 0. 0. 0. 0. 0. 0. 0. 1. 1. 0. 0. 0. 0. 0.]\n"
     ]
    }
   ],
   "source": [
    "sample = samples.iloc[i]['waveform'].astype(np.float32)\n",
    "\n",
    "sr = 44100\n",
    "bpm = np.random.randint(70, 151)\n",
    "print(bpm)\n",
    "num_of_beats = 2 ** np.random.randint(2, 5)\n",
    "num_of_hits = np.random.randint(2, 4 * num_of_beats)\n",
    "\n",
    "beat_time = 60 / bpm  # seconds per beat\n",
    "loop_duration = beat_time * num_of_beats\n",
    "loop_samples = int(np.ceil(loop_duration * sr))\n",
    "new_loop = np.zeros(loop_samples, dtype=np.float32)\n",
    "\n",
    "# 16th note resolution\n",
    "hits = np.zeros(num_of_beats * 4)\n",
    "hits[:num_of_hits] = 1\n",
    "np.random.shuffle(hits)\n",
    "\n",
    "print(hits)\n",
    "\n",
    "for i, hit in enumerate(hits):\n",
    "    if hit == 1:\n",
    "        start_idx = int(i * (sr * beat_time / 4))\n",
    "        end_idx = start_idx + len(sample)\n",
    "        if end_idx <= len(new_loop):\n",
    "            new_loop[start_idx:end_idx] += sample[:len(new_loop) - start_idx]  # trim if necessary\n",
    "\n",
    "# Normalize to avoid clipping, then convert to int16\n",
    "new_loop /= np.max(np.abs(new_loop)) + 1e-7\n",
    "new_loop_int16 = np.int16(new_loop * 32767)\n",
    "\n",
    "wavf.write(\"loop_out.wav\", sr, new_loop_int16)\n"
   ]
  },
  {
   "cell_type": "code",
   "execution_count": null,
   "id": "381dafbf",
   "metadata": {},
   "outputs": [
    {
     "name": "stdout",
     "output_type": "stream",
     "text": [
      "<class 'numpy.ndarray'>\n"
     ]
    }
   ],
   "source": [
    "print(type(new_loop))"
   ]
  },
  {
   "cell_type": "code",
   "execution_count": 292,
   "id": "4a9a6720",
   "metadata": {},
   "outputs": [],
   "source": [
    "new_loop = (new_loop * (2 ** 15 - 1)).astype(\"<h\")\n",
    "\n",
    "with wave.open(\"sound1.wav\", \"w\") as f:\n",
    "    # 2 Channels.\n",
    "    f.setnchannels(1)\n",
    "    # 2 bytes per sample.\n",
    "    f.setsampwidth(2)\n",
    "    f.setframerate(sr)\n",
    "    f.writeframes(new_loop.tobytes())"
   ]
  },
  {
   "cell_type": "code",
   "execution_count": null,
   "id": "10afee07",
   "metadata": {},
   "outputs": [],
   "source": [
    "import scipy.io.wavfile as wavf\n",
    "\n",
    "out_f = 'loop_out.wav'\n",
    "\n",
    "wavf.write(out_f, sr, new_loop)"
   ]
  },
  {
   "cell_type": "code",
   "execution_count": 193,
   "id": "b520b063",
   "metadata": {},
   "outputs": [
    {
     "name": "stdout",
     "output_type": "stream",
     "text": [
      "0.016666666666666666\n"
     ]
    }
   ],
   "source": [
    "print(1/60)"
   ]
  }
 ],
 "metadata": {
  "kernelspec": {
   "display_name": "py31112",
   "language": "python",
   "name": "python3"
  },
  "language_info": {
   "codemirror_mode": {
    "name": "ipython",
    "version": 3
   },
   "file_extension": ".py",
   "mimetype": "text/x-python",
   "name": "python",
   "nbconvert_exporter": "python",
   "pygments_lexer": "ipython3",
   "version": "3.11.12"
  }
 },
 "nbformat": 4,
 "nbformat_minor": 5
}
