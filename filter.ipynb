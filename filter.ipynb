{
 "cells": [
  {
   "cell_type": "code",
   "execution_count": 1,
   "id": "556e619c",
   "metadata": {},
   "outputs": [],
   "source": [
    "import h5py\n",
    "import numpy as np\n",
    "import pandas as pd\n",
    "from concurrent.futures import ThreadPoolExecutor\n",
    "from tqdm import tqdm"
   ]
  },
  {
   "cell_type": "code",
   "execution_count": 2,
   "id": "45fb2a5c",
   "metadata": {},
   "outputs": [],
   "source": [
    "df_md = pd.read_csv(\"audio_metadata - filtered.csv\")\n",
    "df_md_id = np.array(df_md['id']).flatten()"
   ]
  },
  {
   "cell_type": "code",
   "execution_count": 3,
   "id": "16af1400",
   "metadata": {},
   "outputs": [
    {
     "data": {
      "text/plain": [
       "array([3843, 3443, 3440, 3439, 3454])"
      ]
     },
     "execution_count": 3,
     "metadata": {},
     "output_type": "execute_result"
    }
   ],
   "source": [
    "df_md_id[:5]"
   ]
  },
  {
   "cell_type": "code",
   "execution_count": 4,
   "id": "91d91eb6",
   "metadata": {},
   "outputs": [],
   "source": [
    "wavs = []\n",
    "srs = []\n",
    "\n",
    "def load_sample(f, sample_id):\n",
    "    group = f[\"audio_data\"][str(sample_id)]\n",
    "    waveform = np.array(group[\"waveform\"])\n",
    "    sample_rate = np.array(group[\"sample_rate\"])\n",
    "    return waveform, sample_rate\n",
    "\n",
    "with h5py.File(\"audio_data.h5\", \"r\") as f:\n",
    "    for i in df_md_id:\n",
    "        waveform, sr = load_sample(f, i)\n",
    "        wavs.append(waveform)\n",
    "        srs.append(sr)\n"
   ]
  },
  {
   "cell_type": "code",
   "execution_count": 5,
   "id": "bb5dc593",
   "metadata": {},
   "outputs": [],
   "source": [
    "assert len(wavs) == len(srs)"
   ]
  },
  {
   "cell_type": "code",
   "execution_count": 6,
   "id": "1aa8ce24",
   "metadata": {},
   "outputs": [],
   "source": [
    "df_ar = pd.DataFrame({\n",
    "    'id': df_md_id,\n",
    "    \"sample_rate\": srs,\n",
    "    'waveform': wavs\n",
    "})"
   ]
  },
  {
   "cell_type": "code",
   "execution_count": 7,
   "id": "6239fe54",
   "metadata": {},
   "outputs": [
    {
     "data": {
      "text/html": [
       "<div>\n",
       "<style scoped>\n",
       "    .dataframe tbody tr th:only-of-type {\n",
       "        vertical-align: middle;\n",
       "    }\n",
       "\n",
       "    .dataframe tbody tr th {\n",
       "        vertical-align: top;\n",
       "    }\n",
       "\n",
       "    .dataframe thead th {\n",
       "        text-align: right;\n",
       "    }\n",
       "</style>\n",
       "<table border=\"1\" class=\"dataframe\">\n",
       "  <thead>\n",
       "    <tr style=\"text-align: right;\">\n",
       "      <th></th>\n",
       "      <th>id</th>\n",
       "      <th>sample_rate</th>\n",
       "      <th>waveform</th>\n",
       "    </tr>\n",
       "  </thead>\n",
       "  <tbody>\n",
       "    <tr>\n",
       "      <th>0</th>\n",
       "      <td>3843</td>\n",
       "      <td>44100</td>\n",
       "      <td>[5.164626e-05, -0.000103295286, 2.5824858e-05,...</td>\n",
       "    </tr>\n",
       "    <tr>\n",
       "      <th>1</th>\n",
       "      <td>3443</td>\n",
       "      <td>44100</td>\n",
       "      <td>[-0.0004272461, -0.0016479492, -0.007232666, -...</td>\n",
       "    </tr>\n",
       "    <tr>\n",
       "      <th>2</th>\n",
       "      <td>3440</td>\n",
       "      <td>44100</td>\n",
       "      <td>[-0.0009765625, -0.0026550293, -0.009033203, -...</td>\n",
       "    </tr>\n",
       "    <tr>\n",
       "      <th>3</th>\n",
       "      <td>3439</td>\n",
       "      <td>44100</td>\n",
       "      <td>[-0.00039672852, -0.00045776367, -0.0014953613...</td>\n",
       "    </tr>\n",
       "    <tr>\n",
       "      <th>4</th>\n",
       "      <td>3454</td>\n",
       "      <td>44100</td>\n",
       "      <td>[-0.0029296875, -0.010894775, -0.051208496, -0...</td>\n",
       "    </tr>\n",
       "  </tbody>\n",
       "</table>\n",
       "</div>"
      ],
      "text/plain": [
       "     id sample_rate                                           waveform\n",
       "0  3843       44100  [5.164626e-05, -0.000103295286, 2.5824858e-05,...\n",
       "1  3443       44100  [-0.0004272461, -0.0016479492, -0.007232666, -...\n",
       "2  3440       44100  [-0.0009765625, -0.0026550293, -0.009033203, -...\n",
       "3  3439       44100  [-0.00039672852, -0.00045776367, -0.0014953613...\n",
       "4  3454       44100  [-0.0029296875, -0.010894775, -0.051208496, -0..."
      ]
     },
     "execution_count": 7,
     "metadata": {},
     "output_type": "execute_result"
    }
   ],
   "source": [
    "df_ar.head(5)"
   ]
  },
  {
   "cell_type": "code",
   "execution_count": 8,
   "id": "9329e07a",
   "metadata": {},
   "outputs": [
    {
     "name": "stderr",
     "output_type": "stream",
     "text": [
      "100%|██████████| 2047/2047 [00:08<00:00, 241.17it/s]\n"
     ]
    }
   ],
   "source": [
    "with h5py.File(\"filtered_audio_data.h5\", \"w\") as f:\n",
    "    audio_data = f.create_group('audio_data')\n",
    "\n",
    "    def save_sample(row):\n",
    "        sample_group = audio_data.create_group(str(row['id']))\n",
    "        sample_group.create_dataset('waveform', data=row['waveform'], compression='gzip')\n",
    "        sample_group.create_dataset('sample_rate', data=row['sample_rate'])\n",
    "\n",
    "    # Use ThreadPoolExecutor for parallelism\n",
    "    with ThreadPoolExecutor(max_workers=10) as executor:\n",
    "        list(tqdm(executor.map(save_sample, [row for _, row in df_ar.iterrows()]), total=len(df_ar)))\n",
    "    "
   ]
  }
 ],
 "metadata": {
  "kernelspec": {
   "display_name": "venv",
   "language": "python",
   "name": "python3"
  },
  "language_info": {
   "codemirror_mode": {
    "name": "ipython",
    "version": 3
   },
   "file_extension": ".py",
   "mimetype": "text/x-python",
   "name": "python",
   "nbconvert_exporter": "python",
   "pygments_lexer": "ipython3",
   "version": "3.13.1"
  }
 },
 "nbformat": 4,
 "nbformat_minor": 5
}
