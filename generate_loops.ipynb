{
 "cells": [
  {
   "cell_type": "code",
   "execution_count": 1,
   "id": "e71ae10b",
   "metadata": {},
   "outputs": [],
   "source": [
    "import pandas as pd\n",
    "import numpy as np\n",
    "import librosa\n",
    "import h5py"
   ]
  },
  {
   "cell_type": "code",
   "execution_count": 73,
   "id": "fcc2d36c",
   "metadata": {},
   "outputs": [],
   "source": [
    "one_to_loop_ratio = 1\n",
    "loop_unit_multi_sample_pct = 0.2"
   ]
  },
  {
   "cell_type": "code",
   "execution_count": 11,
   "id": "6e596dfb",
   "metadata": {},
   "outputs": [],
   "source": [
    "meta_data = pd.read_csv('audio_metadata - filtered.csv', sep=',')\n",
    "# meta_data.drop(columns=['group', 'category', 'sub_category'], inplace=True)"
   ]
  },
  {
   "cell_type": "code",
   "execution_count": 12,
   "id": "b959f459",
   "metadata": {},
   "outputs": [],
   "source": [
    "df_id = np.array(meta_data['id'].astype(int)).flatten()\n",
    "\n",
    "wavs = []\n",
    "srs = []\n",
    "\n",
    "def load_sample(f, sample_id):\n",
    "    group = f[\"audio_data\"][str(sample_id)]\n",
    "    waveform = np.array(group[\"waveform\"])\n",
    "    sample_rate = np.array(group[\"sample_rate\"])\n",
    "    return waveform, sample_rate\n",
    "\n",
    "\n",
    "with h5py.File('filtered_audio_data.h5', \"r\") as f:\n",
    "    for i in df_id:\n",
    "        waveform, sr = load_sample(f, i)  # load sample with id=42\n",
    "        wavs.append(waveform)\n",
    "        srs.append(sr)\n",
    "\n",
    "\n",
    "samples = pd.DataFrame({'id': df_id, 'waveform': wavs, 'sample_rate': srs, })"
   ]
  },
  {
   "cell_type": "code",
   "execution_count": null,
   "id": "0cbb571d",
   "metadata": {},
   "outputs": [],
   "source": [
    "samples = samples.set_index('id').join(meta_data.set_index('id'))\n",
    "one_shots = samples.copy()\n",
    "loops = samples.copy()"
   ]
  },
  {
   "cell_type": "code",
   "execution_count": 70,
   "id": "2a76127f",
   "metadata": {},
   "outputs": [
    {
     "name": "stdout",
     "output_type": "stream",
     "text": [
      "'loop_id' and 'one_shot_intent' are not present\n"
     ]
    }
   ],
   "source": [
    "if 'one_shot_intent' and 'loop_id' in samples.columns:\n",
    "    print(\"'loop_id' and 'one_shot_intent' are present\")\n",
    "    one_shots = one_shots[one_shots['One_Shot'] == 1 and one_shots['one_shot_intent']==1]\n",
    "    loops = loops[loops['loop_id'] > 0]\n",
    "else:\n",
    "    print(\"'loop_id' and 'one_shot_intent' are not present\")\n",
    "    one_shots = one_shots[one_shots['One_Shot'] == 1]\n",
    "    loops = loops[loops['One_Shot'] == 0]"
   ]
  },
  {
   "cell_type": "code",
   "execution_count": 65,
   "id": "0cb1c2f9",
   "metadata": {},
   "outputs": [],
   "source": [
    "one_shot_cats = set(one_shots['category'])\n",
    "loop_cats = set(one_shots['category'])"
   ]
  },
  {
   "cell_type": "code",
   "execution_count": 77,
   "id": "f53faaaf",
   "metadata": {},
   "outputs": [
    {
     "data": {
      "text/plain": [
       "{'Hi Hat': {'current_loop': 195,\n",
       "  'current_one_shot': 1005,\n",
       "  'all': 1200,\n",
       "  'needed_each': 545},\n",
       " 'Kick': {'current_loop': 195,\n",
       "  'current_one_shot': 1005,\n",
       "  'all': 1200,\n",
       "  'needed_each': 545},\n",
       " 'Clap': {'current_loop': 195,\n",
       "  'current_one_shot': 1005,\n",
       "  'all': 1200,\n",
       "  'needed_each': 545}}"
      ]
     },
     "execution_count": 77,
     "metadata": {},
     "output_type": "execute_result"
    }
   ],
   "source": [
    "assert one_shot_cats == loop_cats\n",
    "cats = {}\n",
    "for cat in one_shot_cats:\n",
    "    cats[cat] = {}\n",
    "    cats[cat][\"current_loop\"] = len(loops[loops['category'] == cat])\n",
    "    cats[cat][\"current_one_shot\"] = len(one_shots[one_shots['category'] == cat])\n",
    "    cats[cat][\"all\"] = cats[cat][\"current_loop\"] + cats[cat][\"current_one_shot\"]\n",
    "    cats[cat]['needed_each'] = int((one_to_loop_ratio * cats[cat][\"all\"]) / (one_to_loop_ratio +1 + loop_unit_multi_sample_pct))\n",
    "\n",
    "\n",
    "cats"
   ]
  },
  {
   "cell_type": "markdown",
   "id": "5c0aef00",
   "metadata": {},
   "source": [
    "# next up  \n",
    "made a way to import files. get their category and count by one shot or loop  \n",
    "\n",
    "now i need to do the following:  \n",
    "- figure out the number of samples to switch from one shot to loop in order to have a 50/50 split  \n",
    "  - a small amount (ex: 20%) of loops should use more than 1 sample. need to take into account that we'll use a higher amount of samples for loops than oneshots to acheive a 50/50 split: done  \n",
    "- start choosing the one shots to use in a loop  \n",
    "- doccument their intent\n",
    "- all of this needs to work with the possibility that loops may or may not exist. can't overwrite existing data when making loops. loop ids can't clash with existing loop ids\n",
    "\n",
    "\n",
    "\n",
    "# line to save for when \n",
    "keep this line for when i need to start generating new ids for the loops\n",
    "loop_id_num = max(loops['loop_id'])"
   ]
  }
 ],
 "metadata": {
  "kernelspec": {
   "display_name": "py31112",
   "language": "python",
   "name": "python3"
  },
  "language_info": {
   "codemirror_mode": {
    "name": "ipython",
    "version": 3
   },
   "file_extension": ".py",
   "mimetype": "text/x-python",
   "name": "python",
   "nbconvert_exporter": "python",
   "pygments_lexer": "ipython3",
   "version": "3.11.12"
  }
 },
 "nbformat": 4,
 "nbformat_minor": 5
}
